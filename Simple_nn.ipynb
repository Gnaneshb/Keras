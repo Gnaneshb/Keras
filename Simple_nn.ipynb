{
  "nbformat": 4,
  "nbformat_minor": 0,
  "metadata": {
    "colab": {
      "name": "Simple_nn.ipynb",
      "version": "0.3.2",
      "views": {},
      "default_view": {},
      "provenance": []
    },
    "kernelspec": {
      "name": "python3",
      "display_name": "Python 3"
    }
  },
  "cells": [
    {
      "metadata": {
        "id": "8J6sSo5Z89cM",
        "colab_type": "code",
        "colab": {
          "autoexec": {
            "startup": false,
            "wait_interval": 0
          }
        }
      },
      "cell_type": "code",
      "source": [
        "from __future__ import print_function\n",
        "import keras\n",
        "from keras.datasets import mnist\n",
        "from keras.models import Sequential\n",
        "from keras.layers import Dense, Dropout, Flatten\n",
        "from keras.layers import Conv2D, MaxPooling2D\n",
        "from keras import backend as K\n",
        "from keras.optimizers import RMSprop"
      ],
      "execution_count": 0,
      "outputs": []
    },
    {
      "metadata": {
        "id": "yy8SQZmu9UPa",
        "colab_type": "code",
        "colab": {
          "autoexec": {
            "startup": false,
            "wait_interval": 0
          }
        },
        "cellView": "code"
      },
      "cell_type": "code",
      "source": [
        "batch_size = 128\n",
        "num_classes = 10\n",
        "epochs = 15"
      ],
      "execution_count": 0,
      "outputs": []
    },
    {
      "metadata": {
        "id": "7aGqo8fy9q85",
        "colab_type": "code",
        "colab": {
          "autoexec": {
            "startup": false,
            "wait_interval": 0
          }
        }
      },
      "cell_type": "code",
      "source": [
        "# the data, split between train and test sets\n",
        "(x_train, y_train), (x_test, y_test) = mnist.load_data()"
      ],
      "execution_count": 0,
      "outputs": []
    },
    {
      "metadata": {
        "id": "-mr_w0uT-orY",
        "colab_type": "code",
        "colab": {
          "autoexec": {
            "startup": false,
            "wait_interval": 0
          },
          "output_extras": [
            {
              "item_id": 1
            }
          ],
          "base_uri": "https://localhost:8080/",
          "height": 52
        },
        "outputId": "671ba27e-c5de-4de9-a9d9-30bd8b1f5e38",
        "executionInfo": {
          "status": "ok",
          "timestamp": 1520956197681,
          "user_tz": -330,
          "elapsed": 1084,
          "user": {
            "displayName": "Gnanesh Bammidi",
            "photoUrl": "//lh5.googleusercontent.com/-wwJrYv7Gmeo/AAAAAAAAAAI/AAAAAAAAPwQ/fivpz3MVGaY/s50-c-k-no/photo.jpg",
            "userId": "100219505501441634441"
          }
        }
      },
      "cell_type": "code",
      "source": [
        "x_train = x_train.reshape(60000, 784)\n",
        "x_test = x_test.reshape(10000, 784)\n",
        "x_train = x_train.astype('float32')\n",
        "x_test = x_test.astype('float32')\n",
        "x_train /= 255\n",
        "x_test /= 255\n",
        "print(x_train.shape[0], 'train samples')\n",
        "print(x_test.shape[0], 'test samples')"
      ],
      "execution_count": 35,
      "outputs": [
        {
          "output_type": "stream",
          "text": [
            "60000 train samples\n",
            "10000 test samples\n"
          ],
          "name": "stdout"
        }
      ]
    },
    {
      "metadata": {
        "id": "-Bqb2Tvd___1",
        "colab_type": "code",
        "colab": {
          "autoexec": {
            "startup": false,
            "wait_interval": 0
          }
        }
      },
      "cell_type": "code",
      "source": [
        "# convert class vectors to binary class matrices\n",
        "y_train = keras.utils.to_categorical(y_train, num_classes)\n",
        "y_test = keras.utils.to_categorical(y_test, num_classes)\n"
      ],
      "execution_count": 0,
      "outputs": []
    },
    {
      "metadata": {
        "id": "W6j0QHRdAq2z",
        "colab_type": "code",
        "colab": {
          "autoexec": {
            "startup": false,
            "wait_interval": 0
          }
        }
      },
      "cell_type": "code",
      "source": [
        "model = Sequential()\n",
        "model.add(Dense(512, activation='relu', input_shape=(784,)))\n",
        "model.add(Dropout(0.2))\n",
        "model.add(Dense(512, activation='relu'))\n",
        "model.add(Dropout(0.2))\n",
        "model.add(Dense(num_classes, activation='softmax'))\n"
      ],
      "execution_count": 0,
      "outputs": []
    },
    {
      "metadata": {
        "id": "jS7EZk3bBLRr",
        "colab_type": "code",
        "colab": {
          "autoexec": {
            "startup": false,
            "wait_interval": 0
          },
          "output_extras": [
            {
              "item_id": 1
            }
          ],
          "base_uri": "https://localhost:8080/",
          "height": 312
        },
        "outputId": "82b7147b-c3b3-4f18-ce06-d59fe41f37af",
        "executionInfo": {
          "status": "ok",
          "timestamp": 1520955606342,
          "user_tz": -330,
          "elapsed": 1533,
          "user": {
            "displayName": "Gnanesh Bammidi",
            "photoUrl": "//lh5.googleusercontent.com/-wwJrYv7Gmeo/AAAAAAAAAAI/AAAAAAAAPwQ/fivpz3MVGaY/s50-c-k-no/photo.jpg",
            "userId": "100219505501441634441"
          }
        }
      },
      "cell_type": "code",
      "source": [
        "model.summary()"
      ],
      "execution_count": 19,
      "outputs": [
        {
          "output_type": "stream",
          "text": [
            "_________________________________________________________________\n",
            "Layer (type)                 Output Shape              Param #   \n",
            "=================================================================\n",
            "dense_4 (Dense)              (None, 512)               401920    \n",
            "_________________________________________________________________\n",
            "dropout_3 (Dropout)          (None, 512)               0         \n",
            "_________________________________________________________________\n",
            "dense_5 (Dense)              (None, 512)               262656    \n",
            "_________________________________________________________________\n",
            "dropout_4 (Dropout)          (None, 512)               0         \n",
            "_________________________________________________________________\n",
            "dense_6 (Dense)              (None, 10)                5130      \n",
            "=================================================================\n",
            "Total params: 669,706\n",
            "Trainable params: 669,706\n",
            "Non-trainable params: 0\n",
            "_________________________________________________________________\n"
          ],
          "name": "stdout"
        }
      ]
    },
    {
      "metadata": {
        "id": "v1wEEAFVBgik",
        "colab_type": "code",
        "colab": {
          "autoexec": {
            "startup": false,
            "wait_interval": 0
          }
        }
      },
      "cell_type": "code",
      "source": [
        "model.compile(loss='categorical_crossentropy',\n",
        "                optimizer=RMSprop(),\n",
        "                metrics=['accuracy'])\n"
      ],
      "execution_count": 0,
      "outputs": []
    },
    {
      "metadata": {
        "id": "0cUmh9fhBoS-",
        "colab_type": "code",
        "colab": {
          "autoexec": {
            "startup": false,
            "wait_interval": 0
          },
          "output_extras": [
            {
              "item_id": 50
            },
            {
              "item_id": 98
            },
            {
              "item_id": 154
            },
            {
              "item_id": 195
            },
            {
              "item_id": 247
            },
            {
              "item_id": 288
            }
          ],
          "base_uri": "https://localhost:8080/",
          "height": 575
        },
        "outputId": "e4e2ff44-06d7-4099-d9ed-e0fd08aa0b7d",
        "executionInfo": {
          "status": "ok",
          "timestamp": 1520956841523,
          "user_tz": -330,
          "elapsed": 131924,
          "user": {
            "displayName": "Gnanesh Bammidi",
            "photoUrl": "//lh5.googleusercontent.com/-wwJrYv7Gmeo/AAAAAAAAAAI/AAAAAAAAPwQ/fivpz3MVGaY/s50-c-k-no/photo.jpg",
            "userId": "100219505501441634441"
          }
        }
      },
      "cell_type": "code",
      "source": [
        "history = model.fit(x_train, y_train,\n",
        "                    batch_size=batch_size,\n",
        "                    epochs=epochs,\n",
        "                    verbose=1,\n",
        "validation_data=(x_test, y_test))\n"
      ],
      "execution_count": 41,
      "outputs": [
        {
          "output_type": "stream",
          "text": [
            "Train on 60000 samples, validate on 10000 samples\n",
            "Epoch 1/15\n",
            "60000/60000 [==============================] - 8s 138us/step - loss: 0.0189 - acc: 0.9953 - val_loss: 0.1139 - val_acc: 0.9827\n",
            "Epoch 2/15\n",
            "60000/60000 [==============================] - 9s 144us/step - loss: 0.0183 - acc: 0.9957 - val_loss: 0.1045 - val_acc: 0.9857\n",
            "Epoch 3/15\n",
            "32000/60000 [===============>..............] - ETA: 3s - loss: 0.0161 - acc: 0.9960"
          ],
          "name": "stdout"
        },
        {
          "output_type": "stream",
          "text": [
            "60000/60000 [==============================] - 9s 146us/step - loss: 0.0163 - acc: 0.9961 - val_loss: 0.1335 - val_acc: 0.9817\n",
            "Epoch 4/15\n",
            "60000/60000 [==============================] - 9s 144us/step - loss: 0.0154 - acc: 0.9962 - val_loss: 0.1290 - val_acc: 0.9839\n",
            "Epoch 5/15\n",
            "60000/60000 [==============================] - 9s 146us/step - loss: 0.0183 - acc: 0.9957 - val_loss: 0.1085 - val_acc: 0.9850\n",
            "Epoch 6/15\n",
            " 2432/60000 [>.............................] - ETA: 7s - loss: 0.0238 - acc: 0.9947"
          ],
          "name": "stdout"
        },
        {
          "output_type": "stream",
          "text": [
            "60000/60000 [==============================] - 9s 144us/step - loss: 0.0163 - acc: 0.9963 - val_loss: 0.1208 - val_acc: 0.9836\n",
            "Epoch 7/15\n",
            "60000/60000 [==============================] - 9s 148us/step - loss: 0.0163 - acc: 0.9961 - val_loss: 0.1325 - val_acc: 0.9822\n",
            "Epoch 8/15\n",
            "55808/60000 [==========================>...] - ETA: 0s - loss: 0.0168 - acc: 0.9965"
          ],
          "name": "stdout"
        },
        {
          "output_type": "stream",
          "text": [
            "60000/60000 [==============================] - 9s 149us/step - loss: 0.0172 - acc: 0.9965 - val_loss: 0.1217 - val_acc: 0.9833\n",
            "Epoch 9/15\n",
            "60000/60000 [==============================] - 9s 148us/step - loss: 0.0160 - acc: 0.9963 - val_loss: 0.1287 - val_acc: 0.9839\n",
            "Epoch 10/15\n",
            "60000/60000 [==============================] - 9s 142us/step - loss: 0.0163 - acc: 0.9966 - val_loss: 0.1307 - val_acc: 0.9837\n",
            "Epoch 11/15\n",
            " 6912/60000 [==>...........................] - ETA: 7s - loss: 0.0098 - acc: 0.9970"
          ],
          "name": "stdout"
        },
        {
          "output_type": "stream",
          "text": [
            "60000/60000 [==============================] - 9s 146us/step - loss: 0.0154 - acc: 0.9964 - val_loss: 0.1240 - val_acc: 0.9851\n",
            "Epoch 12/15\n",
            "60000/60000 [==============================] - 9s 147us/step - loss: 0.0175 - acc: 0.9964 - val_loss: 0.1282 - val_acc: 0.9851\n",
            "Epoch 13/15\n",
            "56960/60000 [===========================>..] - ETA: 0s - loss: 0.0150 - acc: 0.9968"
          ],
          "name": "stdout"
        },
        {
          "output_type": "stream",
          "text": [
            "60000/60000 [==============================] - 9s 145us/step - loss: 0.0153 - acc: 0.9967 - val_loss: 0.1203 - val_acc: 0.9854\n",
            "Epoch 14/15\n",
            "60000/60000 [==============================] - 9s 147us/step - loss: 0.0150 - acc: 0.9970 - val_loss: 0.1275 - val_acc: 0.9836\n",
            "Epoch 15/15\n",
            "60000/60000 [==============================] - 9s 146us/step - loss: 0.0134 - acc: 0.9970 - val_loss: 0.1318 - val_acc: 0.9843\n"
          ],
          "name": "stdout"
        }
      ]
    },
    {
      "metadata": {
        "id": "LVvoSMlTF-hw",
        "colab_type": "code",
        "colab": {
          "autoexec": {
            "startup": false,
            "wait_interval": 0
          },
          "output_extras": [
            {
              "item_id": 1
            }
          ],
          "base_uri": "https://localhost:8080/",
          "height": 52
        },
        "outputId": "21017689-7f45-4aa3-9c7b-1a5414aa6304",
        "executionInfo": {
          "status": "ok",
          "timestamp": 1520956908258,
          "user_tz": -330,
          "elapsed": 1379,
          "user": {
            "displayName": "Gnanesh Bammidi",
            "photoUrl": "//lh5.googleusercontent.com/-wwJrYv7Gmeo/AAAAAAAAAAI/AAAAAAAAPwQ/fivpz3MVGaY/s50-c-k-no/photo.jpg",
            "userId": "100219505501441634441"
          }
        }
      },
      "cell_type": "code",
      "source": [
        "score = model.evaluate(x_test, y_test, verbose=0)\n",
        "print('Test loss:', score[0])\n",
        "print('Test accuracy:', score[1])"
      ],
      "execution_count": 44,
      "outputs": [
        {
          "output_type": "stream",
          "text": [
            "Test loss: 0.13176812843477673\n",
            "Test accuracy: 0.9843\n"
          ],
          "name": "stdout"
        }
      ]
    }
  ]
}