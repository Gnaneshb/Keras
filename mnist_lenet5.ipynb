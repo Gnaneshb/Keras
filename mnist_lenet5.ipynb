{
  "nbformat": 4,
  "nbformat_minor": 0,
  "metadata": {
    "colab": {
      "name": "MNIST_LeNet5.ipynb",
      "version": "0.3.2",
      "views": {},
      "default_view": {},
      "provenance": []
    },
    "kernelspec": {
      "name": "python3",
      "display_name": "Python 3"
    }
  },
  "cells": [
    {
      "metadata": {
        "id": "kwId5zOPCbA9",
        "colab_type": "code",
        "colab": {
          "autoexec": {
            "startup": false,
            "wait_interval": 0
          }
        }
      },
      "cell_type": "code",
      "source": [
        "#!/usr/bin/env python3"
      ],
      "execution_count": 0,
      "outputs": []
    },
    {
      "metadata": {
        "id": "L7h0QnctCzg8",
        "colab_type": "code",
        "colab": {
          "autoexec": {
            "startup": false,
            "wait_interval": 0
          }
        }
      },
      "cell_type": "code",
      "source": [
        "from keras.layers import Dense, Input, merge, Merge, Dropout, MaxPooling2D, Flatten, Conv2D,\\\n",
        "AveragePooling2D, ZeroPadding2D, Lambda, Activation\n",
        "import keras\n",
        "from keras.datasets import mnist\n",
        "from keras.layers.convolutional import Convolution2D, MaxPooling2D\n",
        "from keras import optimizers\n",
        "from keras.layers.core import Dense,Flatten,Dropout,Activation\n",
        "from keras.models import Model,Sequential\n",
        "from keras.layers.normalization import BatchNormalization\n",
        "import numpy as np\n",
        "from keras import backend as K"
      ],
      "execution_count": 0,
      "outputs": []
    },
    {
      "metadata": {
        "id": "5Ju8v8YsI5Bk",
        "colab_type": "code",
        "colab": {
          "autoexec": {
            "startup": false,
            "wait_interval": 0
          }
        }
      },
      "cell_type": "code",
      "source": [
        "batch_size = 128\n",
        "num_classes = 10\n",
        "epochs = 2"
      ],
      "execution_count": 0,
      "outputs": []
    },
    {
      "metadata": {
        "id": "kZe010i0JA9X",
        "colab_type": "code",
        "colab": {
          "autoexec": {
            "startup": false,
            "wait_interval": 0
          }
        }
      },
      "cell_type": "code",
      "source": [
        "# input image dimensions\n",
        "img_rows, img_cols = 28, 28\n",
        "\n",
        "# the data, split between train and test sets\n",
        "(x_train, y_train), (x_test, y_test) = mnist.load_data()"
      ],
      "execution_count": 0,
      "outputs": []
    },
    {
      "metadata": {
        "id": "ghCaOw0K409x",
        "colab_type": "code",
        "colab": {
          "autoexec": {
            "startup": false,
            "wait_interval": 0
          },
          "output_extras": [
            {
              "item_id": 1
            }
          ],
          "base_uri": "https://localhost:8080/",
          "height": 34
        },
        "outputId": "134f0902-91c0-4665-be0b-04fd2fa6875a",
        "executionInfo": {
          "status": "ok",
          "timestamp": 1521104725716,
          "user_tz": -330,
          "elapsed": 1473,
          "user": {
            "displayName": "Gnanesh Bammidi",
            "photoUrl": "//lh5.googleusercontent.com/-wwJrYv7Gmeo/AAAAAAAAAAI/AAAAAAAAPwQ/fivpz3MVGaY/s50-c-k-no/photo.jpg",
            "userId": "100219505501441634441"
          }
        }
      },
      "cell_type": "code",
      "source": [
        "x_train.shape"
      ],
      "execution_count": 19,
      "outputs": [
        {
          "output_type": "execute_result",
          "data": {
            "text/plain": [
              "(60000, 28, 28)"
            ]
          },
          "metadata": {
            "tags": []
          },
          "execution_count": 19
        }
      ]
    },
    {
      "metadata": {
        "id": "oo84SzIeJJPU",
        "colab_type": "code",
        "colab": {
          "autoexec": {
            "startup": false,
            "wait_interval": 0
          }
        }
      },
      "cell_type": "code",
      "source": [
        "#reshaping the data\n",
        "\n",
        "if K.image_data_format() == 'channels_first':\n",
        "    x_train = x_train.reshape(x_train.shape[0], 1, img_rows, img_cols)\n",
        "    x_test = x_test.reshape(x_test.shape[0], 1, img_rows, img_cols)\n",
        "    input_shape = (1, img_rows, img_cols)\n",
        "else:\n",
        "    x_train = x_train.reshape(x_train.shape[0], img_rows, img_cols, 1)\n",
        "    x_test = x_test.reshape(x_test.shape[0], img_rows, img_cols, 1)\n",
        "    input_shape = (img_rows, img_cols, 1)"
      ],
      "execution_count": 0,
      "outputs": []
    },
    {
      "metadata": {
        "id": "kLJCz_BFJOSJ",
        "colab_type": "code",
        "colab": {
          "autoexec": {
            "startup": false,
            "wait_interval": 0
          },
          "output_extras": [
            {
              "item_id": 1
            }
          ],
          "base_uri": "https://localhost:8080/",
          "height": 69
        },
        "outputId": "37a1a8e6-b635-45a8-fb2b-5fb8495c2e97",
        "executionInfo": {
          "status": "ok",
          "timestamp": 1521104872097,
          "user_tz": -330,
          "elapsed": 1067,
          "user": {
            "displayName": "Gnanesh Bammidi",
            "photoUrl": "//lh5.googleusercontent.com/-wwJrYv7Gmeo/AAAAAAAAAAI/AAAAAAAAPwQ/fivpz3MVGaY/s50-c-k-no/photo.jpg",
            "userId": "100219505501441634441"
          }
        }
      },
      "cell_type": "code",
      "source": [
        "x_train = x_train.astype('float32')\n",
        "x_test = x_test.astype('float32')\n",
        "x_train /= 255\n",
        "x_test /= 255\n",
        "print('x_train shape:', x_train.shape)\n",
        "print(x_train.shape[0], 'train samples')\n",
        "print(x_test.shape[0], 'test samples')"
      ],
      "execution_count": 25,
      "outputs": [
        {
          "output_type": "stream",
          "text": [
            "x_train shape: (60000, 28, 28, 1)\n",
            "60000 train samples\n",
            "10000 test samples\n"
          ],
          "name": "stdout"
        }
      ]
    },
    {
      "metadata": {
        "id": "BX8elMBJ8xr0",
        "colab_type": "code",
        "colab": {
          "autoexec": {
            "startup": false,
            "wait_interval": 0
          },
          "output_extras": [
            {
              "item_id": 2
            }
          ],
          "base_uri": "https://localhost:8080/",
          "height": 86
        },
        "outputId": "a6f80a87-705d-433f-ca6f-8675cdce47f3",
        "executionInfo": {
          "status": "ok",
          "timestamp": 1521105464965,
          "user_tz": -330,
          "elapsed": 3694,
          "user": {
            "displayName": "Gnanesh Bammidi",
            "photoUrl": "//lh5.googleusercontent.com/-wwJrYv7Gmeo/AAAAAAAAAAI/AAAAAAAAPwQ/fivpz3MVGaY/s50-c-k-no/photo.jpg",
            "userId": "100219505501441634441"
          }
        }
      },
      "cell_type": "code",
      "source": [
        "!pip install utils"
      ],
      "execution_count": 34,
      "outputs": [
        {
          "output_type": "stream",
          "text": [
            "Collecting utils\n",
            "  Downloading utils-0.9.0-py2.py3-none-any.whl\n",
            "Installing collected packages: utils\n",
            "Successfully installed utils-0.9.0\n"
          ],
          "name": "stdout"
        }
      ]
    },
    {
      "metadata": {
        "id": "0dXPueMq8Fnq",
        "colab_type": "code",
        "colab": {
          "autoexec": {
            "startup": false,
            "wait_interval": 0
          }
        }
      },
      "cell_type": "code",
      "source": [
        "%matplotlib inline\n",
        "import warnings\n",
        "from keras.models import Sequential\n",
        "from keras.layers import Dense, Activation, Convolution2D, Flatten, Dropout, MaxPooling2D\n",
        "from keras.optimizers import SGD\n",
        "import utils\n",
        "import numpy as np\n",
        "import matplotlib.pyplot as plt\n",
        "import pandas as pd\n",
        "from keras.utils.np_utils import to_categorical\n",
        "from keras import backend as K\n",
        "import sklearn as sk"
      ],
      "execution_count": 0,
      "outputs": []
    },
    {
      "metadata": {
        "id": "oz2oqK0u8Gt1",
        "colab_type": "code",
        "colab": {
          "autoexec": {
            "startup": false,
            "wait_interval": 0
          },
          "output_extras": [
            {
              "item_id": 1
            },
            {
              "item_id": 2
            }
          ],
          "base_uri": "https://localhost:8080/",
          "height": 282
        },
        "outputId": "c1c90c51-1aba-4de5-c219-5bed19bd985d",
        "executionInfo": {
          "status": "ok",
          "timestamp": 1521111957301,
          "user_tz": -330,
          "elapsed": 993,
          "user": {
            "displayName": "Gnanesh Bammidi",
            "photoUrl": "//lh5.googleusercontent.com/-wwJrYv7Gmeo/AAAAAAAAAAI/AAAAAAAAPwQ/fivpz3MVGaY/s50-c-k-no/photo.jpg",
            "userId": "100219505501441634441"
          }
        }
      },
      "cell_type": "code",
      "source": [
        "IMG_INDEX = 9\n",
        "X = x_test\n",
        "X.shape\n",
        "img_plt = X[IMG_INDEX,].reshape(28,28)\n",
        "img_plt.shape\n",
        "plt.imshow(img_plt, cmap='gray')\n",
        "print(\"True Value\",y_test[IMG_INDEX,])"
      ],
      "execution_count": 134,
      "outputs": [
        {
          "output_type": "stream",
          "text": [
            "True Value [0. 0. 0. 0. 0. 0. 0. 0. 0. 1.]\n"
          ],
          "name": "stdout"
        },
        {
          "output_type": "display_data",
          "data": {
            "image/png": "[encoded data removed]",
            "text/plain": [
              "<matplotlib.figure.Figure at 0x7fb84ab06cf8>"
            ]
          },
          "metadata": {
            "tags": []
          }
        }
      ]
    },
    {
      "metadata": {
        "id": "GTYXAQ2aJWAG",
        "colab_type": "code",
        "colab": {
          "autoexec": {
            "startup": false,
            "wait_interval": 0
          }
        }
      },
      "cell_type": "code",
      "source": [
        "# convert class vectors to binary class matrices\n",
        "y_train = keras.utils.to_categorical(y_train, num_classes)\n",
        "y_test = keras.utils.to_categorical(y_test, num_classes)\n"
      ],
      "execution_count": 0,
      "outputs": []
    },
    {
      "metadata": {
        "id": "qaJWwTtg6YZW",
        "colab_type": "code",
        "colab": {
          "autoexec": {
            "startup": false,
            "wait_interval": 0
          },
          "output_extras": [
            {
              "item_id": 1
            }
          ],
          "base_uri": "https://localhost:8080/",
          "height": 34
        },
        "outputId": "edb14591-bab6-4607-e3df-c5b7bf982130",
        "executionInfo": {
          "status": "ok",
          "timestamp": 1521106309052,
          "user_tz": -330,
          "elapsed": 1287,
          "user": {
            "displayName": "Gnanesh Bammidi",
            "photoUrl": "//lh5.googleusercontent.com/-wwJrYv7Gmeo/AAAAAAAAAAI/AAAAAAAAPwQ/fivpz3MVGaY/s50-c-k-no/photo.jpg",
            "userId": "100219505501441634441"
          }
        }
      },
      "cell_type": "code",
      "source": [
        "y_test.shape"
      ],
      "execution_count": 46,
      "outputs": [
        {
          "output_type": "execute_result",
          "data": {
            "text/plain": [
              "(10000, 10)"
            ]
          },
          "metadata": {
            "tags": []
          },
          "execution_count": 46
        }
      ]
    },
    {
      "metadata": {
        "id": "mLMoPNqsEqIG",
        "colab_type": "code",
        "colab": {
          "autoexec": {
            "startup": false,
            "wait_interval": 0
          }
        }
      },
      "cell_type": "code",
      "source": [
        "#model\n",
        "model = Sequential()\n",
        "\n",
        "model.add(Conv2D(64, (5, 5,), padding='same', activation='relu', name='conv1', input_shape = input_shape ))\n",
        "model.add(MaxPooling2D(pool_size=(2, 2), name='pool1'))\n",
        "model.add(Conv2D(64, (5, 5,), padding='same', activation='relu', name='conv2'))\n",
        "model.add(MaxPooling2D(pool_size=(2, 2), name='pool2'))\n",
        "\n",
        "model.add(Flatten())\n",
        "model.add(Dense(128, activation='relu', name='dense1'))\n",
        "model.add(Dropout(0.5))\n",
        "model.add(Dense(64, activation='relu', name='dense2'))\n",
        "model.add(Dropout(0.5))\n",
        "model.add(Dense(10, activation='softmax', name='dense3'))\n",
        "\n",
        "\n",
        "model.compile(loss='categorical_crossentropy', optimizer=keras.optimizers.Adadelta(), metrics=[\"accuracy\"])"
      ],
      "execution_count": 0,
      "outputs": []
    },
    {
      "metadata": {
        "id": "XIbDztVRIyAZ",
        "colab_type": "code",
        "colab": {
          "autoexec": {
            "startup": false,
            "wait_interval": 0
          },
          "output_extras": [
            {
              "item_id": 383
            },
            {
              "item_id": 665
            }
          ],
          "base_uri": "https://localhost:8080/",
          "height": 159
        },
        "outputId": "1a5fadc6-d46b-470d-f41a-4c2ab152d090",
        "executionInfo": {
          "status": "ok",
          "timestamp": 1521107041868,
          "user_tz": -330,
          "elapsed": 531146,
          "user": {
            "displayName": "Gnanesh Bammidi",
            "photoUrl": "//lh5.googleusercontent.com/-wwJrYv7Gmeo/AAAAAAAAAAI/AAAAAAAAPwQ/fivpz3MVGaY/s50-c-k-no/photo.jpg",
            "userId": "100219505501441634441"
          }
        }
      },
      "cell_type": "code",
      "source": [
        "model.fit(x_train, y_train,\n",
        "          batch_size=batch_size,\n",
        "          epochs=epochs,\n",
        "          verbose=1,\n",
        "          validation_data=(x_test, y_test))\n",
        "\n",
        "score = model.evaluate(x_test, y_test, verbose=0)\n",
        "\n",
        "print('Test loss:', score[0])\n",
        "print('Test accuracy:', score[1])"
      ],
      "execution_count": 54,
      "outputs": [
        {
          "output_type": "stream",
          "text": [
            "Train on 60000 samples, validate on 10000 samples\n",
            "Epoch 1/2\n",
            "60000/60000 [==============================] - 258s 4ms/step - loss: 0.4031 - acc: 0.8735 - val_loss: 0.0589 - val_acc: 0.9837\n",
            "Epoch 2/2\n",
            "14336/60000 [======>.......................] - ETA: 3:07 - loss: 0.1299 - acc: 0.9664"
          ],
          "name": "stdout"
        },
        {
          "output_type": "stream",
          "text": [
            "60000/60000 [==============================] - 259s 4ms/step - loss: 0.1154 - acc: 0.9700 - val_loss: 0.0399 - val_acc: 0.9874\n",
            "Test loss: 0.039884803180730705\n",
            "Test accuracy: 0.9874\n"
          ],
          "name": "stdout"
        }
      ]
    },
    {
      "metadata": {
        "id": "H_sAEbkrDloc",
        "colab_type": "code",
        "colab": {
          "autoexec": {
            "startup": false,
            "wait_interval": 0
          }
        }
      },
      "cell_type": "code",
      "source": [
        "#checking model.evaluate and model.predict_classes accuracy values\n",
        "pred = model.predict_classes(x_test)"
      ],
      "execution_count": 0,
      "outputs": []
    },
    {
      "metadata": {
        "id": "xM7ekvkgG0yy",
        "colab_type": "code",
        "colab": {
          "autoexec": {
            "startup": false,
            "wait_interval": 0
          },
          "output_extras": [
            {
              "item_id": 1
            }
          ],
          "base_uri": "https://localhost:8080/",
          "height": 34
        },
        "outputId": "92392183-3a4f-4d10-a588-8f45a603c549",
        "executionInfo": {
          "status": "ok",
          "timestamp": 1521109159574,
          "user_tz": -330,
          "elapsed": 984,
          "user": {
            "displayName": "Gnanesh Bammidi",
            "photoUrl": "//lh5.googleusercontent.com/-wwJrYv7Gmeo/AAAAAAAAAAI/AAAAAAAAPwQ/fivpz3MVGaY/s50-c-k-no/photo.jpg",
            "userId": "100219505501441634441"
          }
        }
      },
      "cell_type": "code",
      "source": [
        "#From binary class to class vector\n",
        "from sklearn.metrics import confusion_matrix,f1_score,accuracy_score\n",
        "from numpy import argmax\n",
        "test = np.argmax(y_test,axis=1) #column axis \n",
        "print(test)\n"
      ],
      "execution_count": 93,
      "outputs": [
        {
          "output_type": "stream",
          "text": [
            "[7 2 1 ... 4 5 6]\n"
          ],
          "name": "stdout"
        }
      ]
    },
    {
      "metadata": {
        "id": "SsFQI9djLPWl",
        "colab_type": "code",
        "colab": {
          "autoexec": {
            "startup": false,
            "wait_interval": 0
          },
          "output_extras": [
            {
              "item_id": 1
            }
          ],
          "base_uri": "https://localhost:8080/",
          "height": 34
        },
        "outputId": "36d37068-5776-475f-e1dd-5ffa82976589",
        "executionInfo": {
          "status": "ok",
          "timestamp": 1521109240574,
          "user_tz": -330,
          "elapsed": 1478,
          "user": {
            "displayName": "Gnanesh Bammidi",
            "photoUrl": "//lh5.googleusercontent.com/-wwJrYv7Gmeo/AAAAAAAAAAI/AAAAAAAAPwQ/fivpz3MVGaY/s50-c-k-no/photo.jpg",
            "userId": "100219505501441634441"
          }
        }
      },
      "cell_type": "code",
      "source": [
        "print(\"Accuracy:\", accuracy_score(test,pred))"
      ],
      "execution_count": 94,
      "outputs": [
        {
          "output_type": "stream",
          "text": [
            "Accuracy: 0.9874\n"
          ],
          "name": "stdout"
        }
      ]
    },
    {
      "metadata": {
        "id": "lAiDpt8bDq2O",
        "colab_type": "code",
        "colab": {
          "autoexec": {
            "startup": false,
            "wait_interval": 0
          },
          "output_extras": [
            {
              "item_id": 1
            },
            {
              "item_id": 2
            }
          ],
          "base_uri": "https://localhost:8080/",
          "height": 282
        },
        "outputId": "b7d9cd15-8386-40be-d0ac-c4d635c4a2d9",
        "executionInfo": {
          "status": "ok",
          "timestamp": 1521107469768,
          "user_tz": -330,
          "elapsed": 1373,
          "user": {
            "displayName": "Gnanesh Bammidi",
            "photoUrl": "//lh5.googleusercontent.com/-wwJrYv7Gmeo/AAAAAAAAAAI/AAAAAAAAPwQ/fivpz3MVGaY/s50-c-k-no/photo.jpg",
            "userId": "100219505501441634441"
          }
        }
      },
      "cell_type": "code",
      "source": [
        "plt.imshow(x_test[3,].reshape(28,28), cmap='gray')\n",
        "print(\"true value:\",pred[3])"
      ],
      "execution_count": 61,
      "outputs": [
        {
          "output_type": "stream",
          "text": [
            "true value: 0\n"
          ],
          "name": "stdout"
        },
        {
          "output_type": "display_data",
          "data": {
            "image/png": "[encoded data removed]",
            "text/plain": [
              "<matplotlib.figure.Figure at 0x7fb84b75e828>"
            ]
          },
          "metadata": {
            "tags": []
          }
        }
      ]
    },
    {
      "metadata": {
        "id": "pX9Rm7v-OMTf",
        "colab_type": "code",
        "colab": {
          "autoexec": {
            "startup": false,
            "wait_interval": 0
          },
          "output_extras": [
            {
              "item_id": 1
            }
          ],
          "base_uri": "https://localhost:8080/",
          "height": 225
        },
        "outputId": "1d5792f6-fc47-4045-a076-d4705f11ed4a",
        "executionInfo": {
          "status": "ok",
          "timestamp": 1521110453370,
          "user_tz": -330,
          "elapsed": 1000,
          "user": {
            "displayName": "Gnanesh Bammidi",
            "photoUrl": "//lh5.googleusercontent.com/-wwJrYv7Gmeo/AAAAAAAAAAI/AAAAAAAAPwQ/fivpz3MVGaY/s50-c-k-no/photo.jpg",
            "userId": "100219505501441634441"
          }
        }
      },
      "cell_type": "code",
      "source": [
        "#finding and printing incorrect ones \n",
        "incorrects = np.nonzero(pred != test)\n",
        "print(incorrects)"
      ],
      "execution_count": 102,
      "outputs": [
        {
          "output_type": "stream",
          "text": [
            "(array([ 259,  290,  321,  445,  449,  582,  619,  684,  716,  717,  726,\n",
            "        740,  924,  947,  965, 1014, 1039, 1062, 1182, 1226, 1232, 1247,\n",
            "       1299, 1319, 1326, 1500, 1527, 1559, 1569, 1681, 1709, 1754, 1878,\n",
            "       1901, 1955, 1982, 2016, 2018, 2035, 2043, 2109, 2118, 2129, 2130,\n",
            "       2135, 2182, 2293, 2387, 2447, 2454, 2582, 2597, 2654, 2810, 2896,\n",
            "       2995, 3030, 3060, 3062, 3073, 3157, 3206, 3422, 3503, 3520, 3558,\n",
            "       3597, 3727, 3767, 3778, 3808, 3853, 3869, 3906, 4065, 4078, 4163,\n",
            "       4176, 4207, 4224, 4238, 4256, 4265, 4284, 4306, 4497, 4536, 4547,\n",
            "       4571, 4575, 4639, 4761, 4807, 4823, 4838, 4860, 4874, 4956, 5734,\n",
            "       5937, 5955, 5997, 6091, 6505, 6571, 6572, 6576, 6597, 6651, 6847,\n",
            "       8094, 8325, 8408, 8520, 9009, 9015, 9019, 9280, 9530, 9642, 9679,\n",
            "       9692, 9729, 9856, 9888, 9892]),)\n"
          ],
          "name": "stdout"
        }
      ]
    },
    {
      "metadata": {
        "id": "G39iGqR4QEWt",
        "colab_type": "code",
        "colab": {
          "autoexec": {
            "startup": false,
            "wait_interval": 0
          },
          "output_extras": [
            {
              "item_id": 1
            },
            {
              "item_id": 2
            }
          ],
          "base_uri": "https://localhost:8080/",
          "height": 236
        },
        "outputId": "3d59b80d-c497-4d54-8cc9-c65cdedd5709",
        "executionInfo": {
          "status": "ok",
          "timestamp": 1521111665342,
          "user_tz": -330,
          "elapsed": 986,
          "user": {
            "displayName": "Gnanesh Bammidi",
            "photoUrl": "//lh5.googleusercontent.com/-wwJrYv7Gmeo/AAAAAAAAAAI/AAAAAAAAPwQ/fivpz3MVGaY/s50-c-k-no/photo.jpg",
            "userId": "100219505501441634441"
          }
        }
      },
      "cell_type": "code",
      "source": [
        "plt.subplot(1,2,1)\n",
        "plt.imshow(x_test[259,].reshape(28,28), cmap='gray')\n",
        "print(\"true value:\",pred[259])\n",
        "\n",
        "plt.subplot(1,2,2)\n",
        "plt.imshow(x_test[4224,].reshape(28,28), cmap='gray')\n",
        "print(\"true value:\",pred[4224])\n"
      ],
      "execution_count": 123,
      "outputs": [
        {
          "output_type": "stream",
          "text": [
            "true value: 0\n",
            "true value: 7\n"
          ],
          "name": "stdout"
        },
        {
          "output_type": "display_data",
          "data": {
            "image/png": "[encoded data removed]",
            "text/plain": [
              "<matplotlib.figure.Figure at 0x7fb84a8c08d0>"
            ]
          },
          "metadata": {
            "tags": []
          }
        }
      ]
    }
  ]
}